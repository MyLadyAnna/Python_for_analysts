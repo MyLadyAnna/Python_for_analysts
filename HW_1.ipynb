{
 "cells": [
  {
   "cell_type": "markdown",
   "id": "b81cfc89",
   "metadata": {},
   "source": [
    "# Оформление ноутбука и закрепление функций и генераторов"
   ]
  },
  {
   "cell_type": "markdown",
   "id": "75ac563d",
   "metadata": {},
   "source": [
    "## Task 1.\n",
    "На складе лежат разные фрукты в разном количестве.\n",
    "Нужно написать функцию, которая на вход принимает любое количество названий фруктов и их количество, а возвращает общее количество фруктов на складе"
   ]
  },
  {
   "cell_type": "code",
   "execution_count": 9,
   "id": "1ab497bc",
   "metadata": {},
   "outputs": [
    {
     "name": "stdout",
     "output_type": "stream",
     "text": [
      "Общее количество фруктов: 20\n"
     ]
    }
   ],
   "source": [
    "def fruits(**kwargs):\n",
    "    total_fruits = sum(kwargs.values())\n",
    "    return f'Общее количество фруктов: {total_fruits}'\n",
    "\n",
    "print(fruits(banana = 10, apple = 8, kiwi = 2))"
   ]
  },
  {
   "cell_type": "markdown",
   "id": "6056fdd7",
   "metadata": {},
   "source": [
    "## Task 2.\n",
    "Дан список с затратами на рекламу. Но в данных есть ошибки, некоторые затраты имеют отрицательную величину. Удалите такие значения из списка и посчитайте суммарные затраты\n",
    "[100, 125, -90, 345, 655, -1, 0, 200]\n",
    "Используйте list comprehensions"
   ]
  },
  {
   "cell_type": "code",
   "execution_count": 11,
   "id": "ee380ae3",
   "metadata": {},
   "outputs": [],
   "source": [
    "cost = [100, 125, -90, 345, 655, -1, 0, 200]"
   ]
  },
  {
   "cell_type": "code",
   "execution_count": 14,
   "id": "eff43131",
   "metadata": {},
   "outputs": [
    {
     "name": "stdout",
     "output_type": "stream",
     "text": [
      "[100, 125, 345, 655, 0, 200]\n",
      "\n",
      "Суммарные затраты: 1425\n"
     ]
    }
   ],
   "source": [
    "new_cost = [cost[i] for i in range(len(cost)) if cost[i] >= 0]\n",
    "print(new_cost)\n",
    "\n",
    "print()\n",
    "print(f'Суммарные затраты: {sum(new_cost[i] for i in range(len(new_cost)))}')"
   ]
  },
  {
   "cell_type": "markdown",
   "id": "74fbf8f0",
   "metadata": {},
   "source": [
    "## Task 3.\n",
    "Даны два списка. Дата покупки и Суммы покупок по датам."
   ]
  },
  {
   "cell_type": "code",
   "execution_count": 17,
   "id": "2cd4d44f",
   "metadata": {},
   "outputs": [],
   "source": [
    "date = ['2021-09-14', '2021-12-15', '2021-09-08', '2021-12-05', '2021-10-09', '2021-09-30', '2021-12-22', '2021-11-29', '2021-12-24', '2021-11-26', '2021-10-27', '2021-12-18', '2021-11-09', '2021-11-23', '2021-09-27', '2021-10-02', '2021-12-27', '2021-09-20', '2021-12-13', '2021-11-01', '2021-11-09', '2021-12-06', '2021-12-08', '2021-10-09', '2021-10-31', '2021-09-30', '2021-11-09', '2021-12-13', '2021-10-26', '2021-12-09']\n",
    "sum_buy = [1270, 8413, 9028, 3703, 5739, 4095, 295, 4944, 5723, 3701, 4471, 651, 7037, 4274, 6275, 4988, 6930, 2971, 6592, 2004, 2822, 519, 3406, 2732, 5015, 2008, 316, 6333, 5700, 2887]"
   ]
  },
  {
   "cell_type": "markdown",
   "id": "7da8bda6",
   "metadata": {},
   "source": [
    "### 3.1.\n",
    "Найдите, какая выручка у компании в ноябре. \n",
    "Используйте list comprehensions"
   ]
  },
  {
   "cell_type": "code",
   "execution_count": 25,
   "id": "3787d789",
   "metadata": {},
   "outputs": [
    {
     "name": "stdout",
     "output_type": "stream",
     "text": [
      "[4944, 3701, 7037, 4274, 2004, 2822, 316]\n",
      "Суммарные затраты: 25098\n"
     ]
    }
   ],
   "source": [
    "res = [sum_buy[i] for i in range(len(date)) if '-11-' in date[i]]\n",
    "print(res)\n",
    "print()\n",
    "print(f'Суммарные затраты: {sum(res)}')"
   ]
  },
  {
   "cell_type": "markdown",
   "id": "6e0036a6",
   "metadata": {},
   "source": [
    "### 3.2.\n",
    "Найдите выручку компании в зависимости от месяца.\n",
    "Для этого напишите функцию, которая на вход принимает список с датами и список с выручкой, а на выходе словарь, где ключи - это месяцы, а значения - это выручка.\n",
    "Используйте аннотирование типов."
   ]
  },
  {
   "cell_type": "code",
   "execution_count": 30,
   "id": "79320ac3",
   "metadata": {},
   "outputs": [
    {
     "name": "stdout",
     "output_type": "stream",
     "text": [
      "{'09': 25647, '12': 45452, '10': 28645, '11': 25098}\n"
     ]
    }
   ],
   "source": [
    "def sumMounth(data_date: list, data_sum: list) -> dict:\n",
    "    profits = {}\n",
    "    for i in range(len(data_date)):\n",
    "        if data_date[i].split('-')[1] in profits.keys():\n",
    "            profits[data_date[i].split('-')[1]] += data_sum[i]\n",
    "        else:\n",
    "            profits[data_date[i].split('-')[1]] = data_sum[i]\n",
    "    return profits\n",
    "\n",
    "print(sumMounth(date, sum_buy))"
   ]
  }
 ],
 "metadata": {
  "kernelspec": {
   "display_name": "Python 3 (ipykernel)",
   "language": "python",
   "name": "python3"
  },
  "language_info": {
   "codemirror_mode": {
    "name": "ipython",
    "version": 3
   },
   "file_extension": ".py",
   "mimetype": "text/x-python",
   "name": "python",
   "nbconvert_exporter": "python",
   "pygments_lexer": "ipython3",
   "version": "3.10.9"
  }
 },
 "nbformat": 4,
 "nbformat_minor": 5
}
